{
 "metadata": {
  "language_info": {
   "codemirror_mode": {
    "name": "ipython",
    "version": 3
   },
   "file_extension": ".py",
   "mimetype": "text/x-python",
   "name": "python",
   "nbconvert_exporter": "python",
   "pygments_lexer": "ipython3",
   "version": "3.8.5"
  },
  "orig_nbformat": 2,
  "kernelspec": {
   "name": "python3",
   "display_name": "Python 3.8.5 64-bit ('base': conda)",
   "metadata": {
    "interpreter": {
     "hash": "b7016158c24df4f3a8edbac2ec353508da107b1a683a7741fb92313752825eb0"
    }
   }
  }
 },
 "nbformat": 4,
 "nbformat_minor": 2,
 "cells": [
  {
   "cell_type": "code",
   "execution_count": 1,
   "metadata": {},
   "outputs": [
    {
     "output_type": "execute_result",
     "data": {
      "text/plain": [
       "   zombies_matados  experiencia\n",
       "0                0            0\n",
       "1                1           10\n",
       "2                3           30\n",
       "3                7           70\n",
       "4               20          200"
      ],
      "text/html": "<div>\n<style scoped>\n    .dataframe tbody tr th:only-of-type {\n        vertical-align: middle;\n    }\n\n    .dataframe tbody tr th {\n        vertical-align: top;\n    }\n\n    .dataframe thead th {\n        text-align: right;\n    }\n</style>\n<table border=\"1\" class=\"dataframe\">\n  <thead>\n    <tr style=\"text-align: right;\">\n      <th></th>\n      <th>zombies_matados</th>\n      <th>experiencia</th>\n    </tr>\n  </thead>\n  <tbody>\n    <tr>\n      <th>0</th>\n      <td>0</td>\n      <td>0</td>\n    </tr>\n    <tr>\n      <th>1</th>\n      <td>1</td>\n      <td>10</td>\n    </tr>\n    <tr>\n      <th>2</th>\n      <td>3</td>\n      <td>30</td>\n    </tr>\n    <tr>\n      <th>3</th>\n      <td>7</td>\n      <td>70</td>\n    </tr>\n    <tr>\n      <th>4</th>\n      <td>20</td>\n      <td>200</td>\n    </tr>\n  </tbody>\n</table>\n</div>"
     },
     "metadata": {},
     "execution_count": 1
    }
   ],
   "source": [
    "import pandas as pd\n",
    "\n",
    "# relación entre muertes y experencia: Cada zombie matado aumenta 10 la experencia\n",
    "df = pd.DataFrame({\n",
    "    \"zombies_matados\": [0, 1, 3, 7, 20],\n",
    "    \"experiencia\": [0, 10, 30, 70, 200]\n",
    "})\n",
    "df"
   ]
  },
  {
   "cell_type": "code",
   "execution_count": 4,
   "metadata": {},
   "outputs": [
    {
     "output_type": "stream",
     "name": "stdout",
     "text": [
      "Correlación Pearson:  0.9999999999999998\n",
      "Correlación spearman:  0.9999999999999999\n",
      "Correlación kendall:  0.9999999999999999\n"
     ]
    }
   ],
   "source": [
    "# Cálculo de correlación con Pandas\n",
    "# ==============================================================================\n",
    "print('Correlación Pearson: ', df.zombies_matados.corr(df.experiencia, method='pearson'))\n",
    "print('Correlación spearman: ', df.zombies_matados.corr(df.experiencia, method='spearman'))\n",
    "print('Correlación kendall: ', df.zombies_matados.corr(df.experiencia, method='kendall'))"
   ]
  },
  {
   "cell_type": "code",
   "execution_count": 20,
   "metadata": {},
   "outputs": [
    {
     "output_type": "execute_result",
     "data": {
      "text/plain": [
       "   zombies_matados  experiencia\n",
       "0                0          100\n",
       "1                1          110\n",
       "2                3          130\n",
       "3                7          170\n",
       "4               20          300"
      ],
      "text/html": "<div>\n<style scoped>\n    .dataframe tbody tr th:only-of-type {\n        vertical-align: middle;\n    }\n\n    .dataframe tbody tr th {\n        vertical-align: top;\n    }\n\n    .dataframe thead th {\n        text-align: right;\n    }\n</style>\n<table border=\"1\" class=\"dataframe\">\n  <thead>\n    <tr style=\"text-align: right;\">\n      <th></th>\n      <th>zombies_matados</th>\n      <th>experiencia</th>\n    </tr>\n  </thead>\n  <tbody>\n    <tr>\n      <th>0</th>\n      <td>0</td>\n      <td>100</td>\n    </tr>\n    <tr>\n      <th>1</th>\n      <td>1</td>\n      <td>110</td>\n    </tr>\n    <tr>\n      <th>2</th>\n      <td>3</td>\n      <td>130</td>\n    </tr>\n    <tr>\n      <th>3</th>\n      <td>7</td>\n      <td>170</td>\n    </tr>\n    <tr>\n      <th>4</th>\n      <td>20</td>\n      <td>300</td>\n    </tr>\n  </tbody>\n</table>\n</div>"
     },
     "metadata": {},
     "execution_count": 20
    }
   ],
   "source": [
    "df = pd.DataFrame({\n",
    "    \"zombies_matados\": [0, 1, 3, 7, 20],\n",
    "    \"experiencia\": [100, 110, 130, 170, 300]\n",
    "})\n",
    "df"
   ]
  },
  {
   "cell_type": "code",
   "execution_count": 11,
   "metadata": {},
   "outputs": [
    {
     "output_type": "stream",
     "name": "stdout",
     "text": [
      "Correlación Pearson:  0.9999999999999998\nCorrelación spearman:  0.9999999999999999\nCorrelación kendall:  0.9999999999999999\n"
     ]
    }
   ],
   "source": [
    "# Cálculo de correlación con Pandas\n",
    "# ==============================================================================\n",
    "print('Correlación Pearson: ', df.zombies_matados.corr(df.experiencia, method='pearson'))\n",
    "print('Correlación spearman: ', df.zombies_matados.corr(df.experiencia, method='spearman'))\n",
    "print('Correlación kendall: ', df.zombies_matados.corr(df.experiencia, method='kendall'))"
   ]
  },
  {
   "cell_type": "code",
   "execution_count": 14,
   "metadata": {},
   "outputs": [
    {
     "output_type": "execute_result",
     "data": {
      "text/plain": [
       "   zombies_matados  experiencia\n",
       "0                0    92.745820\n",
       "1                1   118.651907\n",
       "2                3   130.236462\n",
       "3                7   178.289364\n",
       "4               20   304.058097"
      ],
      "text/html": "<div>\n<style scoped>\n    .dataframe tbody tr th:only-of-type {\n        vertical-align: middle;\n    }\n\n    .dataframe tbody tr th {\n        vertical-align: top;\n    }\n\n    .dataframe thead th {\n        text-align: right;\n    }\n</style>\n<table border=\"1\" class=\"dataframe\">\n  <thead>\n    <tr style=\"text-align: right;\">\n      <th></th>\n      <th>zombies_matados</th>\n      <th>experiencia</th>\n    </tr>\n  </thead>\n  <tbody>\n    <tr>\n      <th>0</th>\n      <td>0</td>\n      <td>92.745820</td>\n    </tr>\n    <tr>\n      <th>1</th>\n      <td>1</td>\n      <td>118.651907</td>\n    </tr>\n    <tr>\n      <th>2</th>\n      <td>3</td>\n      <td>130.236462</td>\n    </tr>\n    <tr>\n      <th>3</th>\n      <td>7</td>\n      <td>178.289364</td>\n    </tr>\n    <tr>\n      <th>4</th>\n      <td>20</td>\n      <td>304.058097</td>\n    </tr>\n  </tbody>\n</table>\n</div>"
     },
     "metadata": {},
     "execution_count": 14
    }
   ],
   "source": [
    "import pandas as pd\n",
    "import random\n",
    "\n",
    "def salida(a, b, x):\n",
    "    ruido = random.uniform(-10, 10)\n",
    "    return a + b * x + ruido\n",
    "\n",
    "# relación entre muertes y experencia: Cada zombie matado aumenta 10 la experencia más un número aleatorio (ruido)\n",
    "df = pd.DataFrame({\n",
    "    \"zombies_matados\": [0, 1, 3, 7, 20],\n",
    "    # \"experiencia\": [0, 10, 30, 70, 200]\n",
    "})\n",
    "\n",
    "df['experiencia'] = df.zombies_matados.apply(lambda x: salida(100, 10, x))\n",
    "\n",
    "df"
   ]
  },
  {
   "cell_type": "code",
   "execution_count": 16,
   "metadata": {},
   "outputs": [
    {
     "output_type": "stream",
     "name": "stdout",
     "text": [
      "Correlación Pearson:  0.9971609752446798\nCorrelación spearman:  0.9999999999999999\nCorrelación kendall:  0.9999999999999999\n"
     ]
    }
   ],
   "source": [
    "# Cálculo de correlación con Pandas\n",
    "# ==============================================================================\n",
    "print('Correlación Pearson: ', df.zombies_matados.corr(df.experiencia, method='pearson'))\n",
    "print('Correlación spearman: ', df.zombies_matados.corr(df.experiencia, method='spearman'))\n",
    "print('Correlación kendall: ', df.zombies_matados.corr(df.experiencia, method='kendall'))"
   ]
  },
  {
   "cell_type": "code",
   "execution_count": 17,
   "metadata": {},
   "outputs": [
    {
     "output_type": "execute_result",
     "data": {
      "text/plain": [
       "   zombies_matados  experiencia\n",
       "0                0  -130.214272\n",
       "1                1  -692.246612\n",
       "2                3   716.086406\n",
       "3                7    21.498707\n",
       "4               20  -320.934146"
      ],
      "text/html": "<div>\n<style scoped>\n    .dataframe tbody tr th:only-of-type {\n        vertical-align: middle;\n    }\n\n    .dataframe tbody tr th {\n        vertical-align: top;\n    }\n\n    .dataframe thead th {\n        text-align: right;\n    }\n</style>\n<table border=\"1\" class=\"dataframe\">\n  <thead>\n    <tr style=\"text-align: right;\">\n      <th></th>\n      <th>zombies_matados</th>\n      <th>experiencia</th>\n    </tr>\n  </thead>\n  <tbody>\n    <tr>\n      <th>0</th>\n      <td>0</td>\n      <td>-130.214272</td>\n    </tr>\n    <tr>\n      <th>1</th>\n      <td>1</td>\n      <td>-692.246612</td>\n    </tr>\n    <tr>\n      <th>2</th>\n      <td>3</td>\n      <td>716.086406</td>\n    </tr>\n    <tr>\n      <th>3</th>\n      <td>7</td>\n      <td>21.498707</td>\n    </tr>\n    <tr>\n      <th>4</th>\n      <td>20</td>\n      <td>-320.934146</td>\n    </tr>\n  </tbody>\n</table>\n</div>"
     },
     "metadata": {},
     "execution_count": 17
    }
   ],
   "source": [
    "import pandas as pd\n",
    "import random\n",
    "\n",
    "def salida(a, b, x):\n",
    "    ruido = random.uniform(-1000, 1000)\n",
    "    return a + b * x + ruido\n",
    "\n",
    "# relación entre muertes y experencia: Cada zombie matado aumenta 10 la experencia más un número aleatorio (ruido)\n",
    "df = pd.DataFrame({\n",
    "    \"zombies_matados\": [0, 1, 3, 7, 20],\n",
    "    # \"experiencia\": [0, 10, 30, 70, 200]\n",
    "})\n",
    "\n",
    "df['experiencia'] = df.zombies_matados.apply(lambda x: salida(100, 10, x))\n",
    "\n",
    "df"
   ]
  },
  {
   "cell_type": "code",
   "execution_count": 19,
   "metadata": {},
   "outputs": [
    {
     "output_type": "stream",
     "name": "stdout",
     "text": [
      "Correlación Pearson:  -0.1353020761133015\nCorrelación spearman:  0.09999999999999999\nCorrelación kendall:  0.0\n"
     ]
    }
   ],
   "source": [
    "# Cálculo de correlación con Pandas\n",
    "# ==============================================================================\n",
    "print('Correlación Pearson: ', df.zombies_matados.corr(df.experiencia, method='pearson'))\n",
    "print('Correlación spearman: ', df.zombies_matados.corr(df.experiencia, method='spearman'))\n",
    "print('Correlación kendall: ', df.zombies_matados.corr(df.experiencia, method='kendall'))"
   ]
  }
 ]
}